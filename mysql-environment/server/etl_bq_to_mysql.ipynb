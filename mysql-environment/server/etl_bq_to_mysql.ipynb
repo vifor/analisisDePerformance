{
 "cells": [
  {
   "cell_type": "code",
   "execution_count": 7,
   "metadata": {},
   "outputs": [],
   "source": [
    "import pandas as pd\n",
    "\n",
    "import mysql.connector\n",
    "\n",
    "# Database connection details\n",
    "db_config = {\n",
    "    'user': 'root',\n",
    "    'password': '123456',\n",
    "    'host': 'localhost',\n",
    "    'database': 'tp_bd'\n",
    "}\n",
    "\n",
    "# Establish a database connection\n",
    "conn = mysql.connector.connect(**db_config)\n",
    "cursor_select = conn.cursor()\n",
    "cursor_new_select = conn.cursor()\n",
    "cursor2 = conn.cursor()\n",
    "cursor = conn.cursor()\n"
   ]
  },
  {
   "cell_type": "code",
   "execution_count": 5,
   "metadata": {},
   "outputs": [
    {
     "name": "stdout",
     "output_type": "stream",
     "text": [
      "Opening JSON file  09:17:00.779576\n",
      "Reading JSON file  09:17:00.781569\n"
     ]
    },
    {
     "ename": "NameError",
     "evalue": "name 'repo_id' is not defined",
     "output_type": "error",
     "traceback": [
      "\u001b[1;31m---------------------------------------------------------------------------\u001b[0m",
      "\u001b[1;31mNameError\u001b[0m                                 Traceback (most recent call last)",
      "Cell \u001b[1;32mIn[5], line 45\u001b[0m\n\u001b[0;32m     39\u001b[0m bytes_count \u001b[38;5;241m=\u001b[39m language[\u001b[38;5;124m'\u001b[39m\u001b[38;5;124mbytes\u001b[39m\u001b[38;5;124m'\u001b[39m]\n\u001b[0;32m     40\u001b[0m insert_query \u001b[38;5;241m=\u001b[39m \u001b[38;5;124m\"\"\"\u001b[39m\n\u001b[0;32m     41\u001b[0m \u001b[38;5;124mINSERT INTO languages (repo_id, language_name, language_bytes)\u001b[39m\n\u001b[0;32m     42\u001b[0m \u001b[38;5;124mVALUES (\u001b[39m\u001b[38;5;132;01m%s\u001b[39;00m\u001b[38;5;124m, \u001b[39m\u001b[38;5;132;01m%s\u001b[39;00m\u001b[38;5;124m, \u001b[39m\u001b[38;5;132;01m%s\u001b[39;00m\u001b[38;5;124m);\u001b[39m\n\u001b[0;32m     43\u001b[0m \u001b[38;5;124m\u001b[39m\u001b[38;5;124m\"\"\"\u001b[39m\n\u001b[1;32m---> 45\u001b[0m cursor\u001b[38;5;241m.\u001b[39mexecute(insert_query, (\u001b[43mrepo_id\u001b[49m, language_name, bytes_count))\n\u001b[0;32m     46\u001b[0m \u001b[38;5;66;03m#print(f\"Repository Name: {repo_name}, Language: {language_name}, Bytes: {bytes_count}\")\u001b[39;00m\n\u001b[0;32m     48\u001b[0m conn\u001b[38;5;241m.\u001b[39mcommit() \n",
      "\u001b[1;31mNameError\u001b[0m: name 'repo_id' is not defined"
     ]
    }
   ],
   "source": [
    "import json\n",
    "from datetime import datetime\n",
    "\n",
    "# Path to the JSON file\n",
    "current_time = datetime.now().time()\n",
    "\n",
    "json_file_path = 'lote_completo_ languages.json'\n",
    "print(\"Opening JSON file \", current_time)\n",
    "# Read the JSON file line by line\n",
    "with open(json_file_path, 'r', encoding='utf-8') as file:\n",
    "    current_time = datetime.now().time()\n",
    "    print( \"Reading JSON file \",current_time )\n",
    "    # start from line 723879\n",
    "     # Skip the first 723878 lines\n",
    "    for _ in range(1331929):\n",
    "        next(file)\n",
    "\n",
    "\n",
    "    for line in file:\n",
    "         \n",
    "        record = json.loads(line.strip())\n",
    "        repo_name = record['repo_name']\n",
    "      # please look for the repo_name in the table repo. If it already exists,\n",
    "      # get the id, otherwise insert it and get the id\n",
    "        cursor_select.execute(\"SELECT id FROM repo WHERE name = %s\", (repo_name,))\n",
    "        result = cursor_select.fetchone()\n",
    "        if result is None:\n",
    "            insert_query = \"\"\"\n",
    "            INSERT INTO repo (name)\n",
    "            VALUES (%s);\n",
    "            \"\"\"\n",
    "            cursor_select.execute(insert_query, (repo_name,))\n",
    "            conn.commit()\n",
    "            cursor_select.execute(\"SELECT id FROM repo WHERE name = %s\", (repo_name,))\n",
    "            result = cursor_select.fetchone()\n",
    "            repo_id = result[0]\n",
    "        for language in record['language']:\n",
    "            language_name = language['name']\n",
    "            bytes_count = language['bytes']\n",
    "            insert_query = \"\"\"\n",
    "            INSERT INTO languages (repo_id, language_name, language_bytes)\n",
    "            VALUES (%s, %s, %s);\n",
    "            \"\"\"\n",
    "            \n",
    "            cursor.execute(insert_query, (repo_id, language_name, bytes_count))\n",
    "            #print(f\"Repository Name: {repo_name}, Language: {language_name}, Bytes: {bytes_count}\")\n",
    "         \n",
    "            conn.commit() \n",
    "#conn.commit()\n",
    "current_time = datetime.now().time()\n",
    "print(\"Closing JSON file \", current_time)\n",
    "cursor.close()\n",
    "conn.close()\n",
    "\n",
    "\n",
    "\n"
   ]
  },
  {
   "cell_type": "code",
   "execution_count": 3,
   "metadata": {},
   "outputs": [
    {
     "name": "stdout",
     "output_type": "stream",
     "text": [
      "Opening JSON file  18:52:54.930676\n",
      "Reading JSON file  18:52:54.930676\n"
     ]
    },
    {
     "ename": "IntegrityError",
     "evalue": "1062 (23000): Duplicate entry '6aeac71607ae24deafdc4e54fa256ea7529feec8@aosc.xyz' for key 'users.email_unique'",
     "output_type": "error",
     "traceback": [
      "\u001b[1;31m---------------------------------------------------------------------------\u001b[0m",
      "\u001b[1;31mIntegrityError\u001b[0m                            Traceback (most recent call last)",
      "Cell \u001b[1;32mIn[3], line 45\u001b[0m\n\u001b[0;32m     40\u001b[0m \u001b[38;5;28;01mif\u001b[39;00m result \u001b[38;5;129;01mis\u001b[39;00m \u001b[38;5;129;01mnot\u001b[39;00m \u001b[38;5;28;01mNone\u001b[39;00m:\n\u001b[0;32m     41\u001b[0m         insert_query \u001b[38;5;241m=\u001b[39m \u001b[38;5;124m\"\"\"\u001b[39m\n\u001b[0;32m     42\u001b[0m \u001b[38;5;124m        INSERT INTO users (name, email)\u001b[39m\n\u001b[0;32m     43\u001b[0m \u001b[38;5;124m        VALUES (\u001b[39m\u001b[38;5;132;01m%s\u001b[39;00m\u001b[38;5;124m, \u001b[39m\u001b[38;5;132;01m%s\u001b[39;00m\u001b[38;5;124m);\u001b[39m\n\u001b[0;32m     44\u001b[0m \u001b[38;5;124m        \u001b[39m\u001b[38;5;124m\"\"\"\u001b[39m\n\u001b[1;32m---> 45\u001b[0m         \u001b[43mcursor_insert\u001b[49m\u001b[38;5;241;43m.\u001b[39;49m\u001b[43mexecute\u001b[49m\u001b[43m(\u001b[49m\u001b[43minsert_query\u001b[49m\u001b[43m,\u001b[49m\u001b[43m \u001b[49m\u001b[43m(\u001b[49m\u001b[43mname\u001b[49m\u001b[43m,\u001b[49m\u001b[43m \u001b[49m\u001b[43memail\u001b[49m\u001b[43m)\u001b[49m\u001b[43m)\u001b[49m\n\u001b[0;32m     46\u001b[0m         conn\u001b[38;5;241m.\u001b[39mcommit()\n\u001b[0;32m     47\u001b[0m         last_inserted_id \u001b[38;5;241m=\u001b[39m cursor_insert\u001b[38;5;241m.\u001b[39mlastrowid\n",
      "File \u001b[1;32m~\\AppData\\Local\\Packages\\PythonSoftwareFoundation.Python.3.9_qbz5n2kfra8p0\\LocalCache\\local-packages\\Python39\\site-packages\\mysql\\connector\\cursor.py:537\u001b[0m, in \u001b[0;36mMySQLCursor.execute\u001b[1;34m(self, operation, params, multi)\u001b[0m\n\u001b[0;32m    534\u001b[0m     \u001b[38;5;28;01mreturn\u001b[39;00m \u001b[38;5;28mself\u001b[39m\u001b[38;5;241m.\u001b[39m_execute_iter(\u001b[38;5;28mself\u001b[39m\u001b[38;5;241m.\u001b[39m_connection\u001b[38;5;241m.\u001b[39mcmd_query_iter(stmt))\n\u001b[0;32m    536\u001b[0m \u001b[38;5;28;01mtry\u001b[39;00m:\n\u001b[1;32m--> 537\u001b[0m     \u001b[38;5;28mself\u001b[39m\u001b[38;5;241m.\u001b[39m_handle_result(\u001b[38;5;28;43mself\u001b[39;49m\u001b[38;5;241;43m.\u001b[39;49m\u001b[43m_connection\u001b[49m\u001b[38;5;241;43m.\u001b[39;49m\u001b[43mcmd_query\u001b[49m\u001b[43m(\u001b[49m\u001b[43mstmt\u001b[49m\u001b[43m)\u001b[49m)\n\u001b[0;32m    538\u001b[0m \u001b[38;5;28;01mexcept\u001b[39;00m InterfaceError \u001b[38;5;28;01mas\u001b[39;00m err:\n\u001b[0;32m    539\u001b[0m     \u001b[38;5;28;01mif\u001b[39;00m \u001b[38;5;28mself\u001b[39m\u001b[38;5;241m.\u001b[39m_connection\u001b[38;5;241m.\u001b[39mhave_next_result:\n",
      "File \u001b[1;32m~\\AppData\\Local\\Packages\\PythonSoftwareFoundation.Python.3.9_qbz5n2kfra8p0\\LocalCache\\local-packages\\Python39\\site-packages\\mysql\\connector\\opentelemetry\\context_propagation.py:97\u001b[0m, in \u001b[0;36mwith_context_propagation.<locals>.wrapper\u001b[1;34m(cnx, *args, **kwargs)\u001b[0m\n\u001b[0;32m     95\u001b[0m \u001b[38;5;66;03m# pylint: disable=possibly-used-before-assignment\u001b[39;00m\n\u001b[0;32m     96\u001b[0m \u001b[38;5;28;01mif\u001b[39;00m \u001b[38;5;129;01mnot\u001b[39;00m OTEL_ENABLED \u001b[38;5;129;01mor\u001b[39;00m \u001b[38;5;129;01mnot\u001b[39;00m cnx\u001b[38;5;241m.\u001b[39motel_context_propagation:\n\u001b[1;32m---> 97\u001b[0m     \u001b[38;5;28;01mreturn\u001b[39;00m method(cnx, \u001b[38;5;241m*\u001b[39margs, \u001b[38;5;241m*\u001b[39m\u001b[38;5;241m*\u001b[39mkwargs)\n\u001b[0;32m     99\u001b[0m current_span \u001b[38;5;241m=\u001b[39m trace\u001b[38;5;241m.\u001b[39mget_current_span()\n\u001b[0;32m    100\u001b[0m tp_header \u001b[38;5;241m=\u001b[39m \u001b[38;5;28;01mNone\u001b[39;00m\n",
      "File \u001b[1;32m~\\AppData\\Local\\Packages\\PythonSoftwareFoundation.Python.3.9_qbz5n2kfra8p0\\LocalCache\\local-packages\\Python39\\site-packages\\mysql\\connector\\connection.py:872\u001b[0m, in \u001b[0;36mMySQLConnection.cmd_query\u001b[1;34m(self, query, raw, buffered, raw_as_string)\u001b[0m\n\u001b[0;32m    870\u001b[0m query \u001b[38;5;241m=\u001b[39m \u001b[38;5;28mbytes\u001b[39m(packet)\n\u001b[0;32m    871\u001b[0m \u001b[38;5;28;01mtry\u001b[39;00m:\n\u001b[1;32m--> 872\u001b[0m     result \u001b[38;5;241m=\u001b[39m \u001b[38;5;28;43mself\u001b[39;49m\u001b[38;5;241;43m.\u001b[39;49m\u001b[43m_handle_result\u001b[49m\u001b[43m(\u001b[49m\u001b[38;5;28;43mself\u001b[39;49m\u001b[38;5;241;43m.\u001b[39;49m\u001b[43m_send_cmd\u001b[49m\u001b[43m(\u001b[49m\u001b[43mServerCmd\u001b[49m\u001b[38;5;241;43m.\u001b[39;49m\u001b[43mQUERY\u001b[49m\u001b[43m,\u001b[49m\u001b[43m \u001b[49m\u001b[43mquery\u001b[49m\u001b[43m)\u001b[49m\u001b[43m)\u001b[49m\n\u001b[0;32m    873\u001b[0m \u001b[38;5;28;01mexcept\u001b[39;00m ProgrammingError \u001b[38;5;28;01mas\u001b[39;00m err:\n\u001b[0;32m    874\u001b[0m     \u001b[38;5;28;01mif\u001b[39;00m err\u001b[38;5;241m.\u001b[39merrno \u001b[38;5;241m==\u001b[39m \u001b[38;5;241m3948\u001b[39m \u001b[38;5;129;01mand\u001b[39;00m \u001b[38;5;124m\"\u001b[39m\u001b[38;5;124mLoading local data is disabled\u001b[39m\u001b[38;5;124m\"\u001b[39m \u001b[38;5;129;01min\u001b[39;00m err\u001b[38;5;241m.\u001b[39mmsg:\n",
      "File \u001b[1;32m~\\AppData\\Local\\Packages\\PythonSoftwareFoundation.Python.3.9_qbz5n2kfra8p0\\LocalCache\\local-packages\\Python39\\site-packages\\mysql\\connector\\connection.py:648\u001b[0m, in \u001b[0;36mMySQLConnection._handle_result\u001b[1;34m(self, packet)\u001b[0m\n\u001b[0;32m    646\u001b[0m     \u001b[38;5;28;01mreturn\u001b[39;00m \u001b[38;5;28mself\u001b[39m\u001b[38;5;241m.\u001b[39m_handle_eof(packet)\n\u001b[0;32m    647\u001b[0m \u001b[38;5;28;01mif\u001b[39;00m packet[\u001b[38;5;241m4\u001b[39m] \u001b[38;5;241m==\u001b[39m \u001b[38;5;241m255\u001b[39m:\n\u001b[1;32m--> 648\u001b[0m     \u001b[38;5;28;01mraise\u001b[39;00m get_exception(packet)\n\u001b[0;32m    650\u001b[0m \u001b[38;5;66;03m# We have a text result set\u001b[39;00m\n\u001b[0;32m    651\u001b[0m column_count \u001b[38;5;241m=\u001b[39m \u001b[38;5;28mself\u001b[39m\u001b[38;5;241m.\u001b[39m_protocol\u001b[38;5;241m.\u001b[39mparse_column_count(packet)\n",
      "\u001b[1;31mIntegrityError\u001b[0m: 1062 (23000): Duplicate entry '6aeac71607ae24deafdc4e54fa256ea7529feec8@aosc.xyz' for key 'users.email_unique'"
     ]
    }
   ],
   "source": [
    "import json\n",
    "import mysql.connector\n",
    "from datetime import datetime\n",
    "\n",
    "# Database connection parameters\n",
    "db_config = {\n",
    "    'user': 'root',\n",
    "    'password': '123456',\n",
    "    'host': 'localhost',\n",
    "    'database': 'tp_bd'\n",
    "}\n",
    "\n",
    "# Establish a connection to the database\n",
    "conn = mysql.connector.connect(**db_config)\n",
    "cursor_select = conn.cursor()\n",
    "cursor_insert = conn.cursor()\n",
    "cursor_update = conn.cursor()\n",
    "\n",
    "# Path to the JSON file\n",
    "json_file_path = 'commits-junio2022-en-adelante.json'\n",
    "current_time = datetime.now().time()\n",
    "print(\"Opening JSON file \", current_time)\n",
    "\n",
    "# Read the JSON file line by line\n",
    "with open(json_file_path, 'r', encoding='utf-8') as file:\n",
    "    current_time = datetime.now().time()\n",
    "    print(\"Reading JSON file \", current_time)\n",
    "\n",
    "    for line in file:\n",
    "        record = json.loads(line.strip())\n",
    "        repo_name = record['repo_name'][0]\n",
    "        name = record['name']\n",
    "        email = record['email']\n",
    "            \n",
    "        # Look for the repo_name in the table repo\n",
    "        cursor_select.execute(\"SELECT id FROM repo WHERE name = %s\", (repo_name,))\n",
    "        result = cursor_select.fetchone()\n",
    "            \n",
    "        # If there is a record\n",
    "        if result is not None:\n",
    "                \n",
    "                try:\n",
    "                    insert_query = \"\"\"\n",
    "                    INSERT INTO users (name, email) \n",
    "                    VALUES (%s, %s);\n",
    "                    \"\"\"\n",
    "                    cursor_insert.execute(insert_query, (name, email))\n",
    "                    conn.commit()\n",
    "                    last_inserted_id = cursor_insert.lastrowid\n",
    "                except mysql.connector.IntegrityError as err:\n",
    "                    # Check if the error is due to a duplicate key\n",
    "                    if err.errno == 1062:  # ER_DUP_ENTRY (duplicate entry)\n",
    "                        # Get the user_id of the duplicate record\n",
    "                        cursor_select.execute(\"SELECT id FROM users WHERE email = %s\", (email,))\n",
    "                        result = cursor_select.fetchone()\n",
    "                        last_inserted_id = result[0]\n",
    "                \n",
    "                \n",
    "                \n",
    "                # Update the repo with the author_id\n",
    "                update_query = \"\"\"\n",
    "                UPDATE repo\n",
    "                SET author_id = %s\n",
    "                WHERE name = %s;\n",
    "                \"\"\"\n",
    "                cursor_update.execute(update_query, (last_inserted_id, repo_name))\n",
    "                conn.commit()\n",
    "                \n",
    "\n",
    "# Commit the transaction and close the cursor and connection\n",
    "conn.commit()\n",
    "cursor_select.close()\n",
    "cursor_insert.close()\n",
    "cursor_update.close()\n",
    "conn.close()\n"
   ]
  },
  {
   "cell_type": "code",
   "execution_count": 9,
   "metadata": {},
   "outputs": [
    {
     "name": "stdout",
     "output_type": "stream",
     "text": [
      "First Record: {'name': 'Victor Rudometov', 'email': '5063180d8c3ea1e4e8806e8a5622cc79772e2195@openjdk.org', 'subject': '8281296: Create a regression test for JDK-4515999', 'message': '8281296: Create a regression test for JDK-4515999\\n\\nBackport-of: f5d8cebbb6f1b38247c3b30ba8859874a0e98115\\n', 'repo_name': ['openjdk/jdk11u'], 'seconds': '1665520820'}\n"
     ]
    }
   ],
   "source": [
    "import json\n",
    "\n",
    "# Path to the JSON file\n",
    "json_file_path = 'commits-junio2022-en-adelante.json'\n",
    "\n",
    "# Read the JSON file and print the first record\n",
    "with open(json_file_path, 'r', encoding='utf-8') as file:\n",
    "    first_line = file.readline().strip()\n",
    "    first_record = json.loads(first_line)\n",
    "    print(\"First Record:\", first_record)"
   ]
  }
 ],
 "metadata": {
  "kernelspec": {
   "display_name": "Python 3",
   "language": "python",
   "name": "python3"
  },
  "language_info": {
   "codemirror_mode": {
    "name": "ipython",
    "version": 3
   },
   "file_extension": ".py",
   "mimetype": "text/x-python",
   "name": "python",
   "nbconvert_exporter": "python",
   "pygments_lexer": "ipython3",
   "version": "3.9.13"
  }
 },
 "nbformat": 4,
 "nbformat_minor": 2
}
